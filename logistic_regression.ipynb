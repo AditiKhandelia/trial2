{
  "nbformat": 4,
  "nbformat_minor": 0,
  "metadata": {
    "colab": {
      "provenance": []
    },
    "kernelspec": {
      "name": "python3",
      "display_name": "Python 3"
    },
    "language_info": {
      "name": "python"
    }
  },
  "cells": [
    {
      "cell_type": "code",
      "execution_count": null,
      "metadata": {
        "id": "M9rb5bo6S23t"
      },
      "outputs": [],
      "source": [
        "import pandas as pd\n",
        "import "
      ]
    }
  ]
}